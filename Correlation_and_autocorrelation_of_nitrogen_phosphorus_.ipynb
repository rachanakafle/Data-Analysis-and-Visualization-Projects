{
  "nbformat": 4,
  "nbformat_minor": 0,
  "metadata": {
    "colab": {
      "name": "Correlation and autocorrelation of nitrogen phosphorus .ipynb",
      "provenance": [],
      "collapsed_sections": [
        "Z0EYFdJxUbUQ",
        "Fg_dsPUTNR1a",
        "ZMP2GQeMb_qv",
        "NunXug9ggE-8"
      ],
      "include_colab_link": true
    },
    "kernelspec": {
      "name": "python3",
      "display_name": "Python 3"
    },
    "language_info": {
      "name": "python"
    }
  },
  "cells": [
    {
      "cell_type": "markdown",
      "metadata": {
        "id": "view-in-github",
        "colab_type": "text"
      },
      "source": [
        "<a href=\"https://colab.research.google.com/github/rachanakafle/Data-Analysis-and-Visualization-Projects/blob/main/Correlation_and_autocorrelation_of_nitrogen_phosphorus_.ipynb\" target=\"_parent\"><img src=\"https://colab.research.google.com/assets/colab-badge.svg\" alt=\"Open In Colab\"/></a>"
      ]
    },
    {
      "cell_type": "code",
      "metadata": {
        "id": "L7m3c6CmTPE0"
      },
      "source": [
        "import pandas as pd\n",
        "import numpy as np\n",
        "import matplotlib.pyplot as plt"
      ],
      "execution_count": null,
      "outputs": []
    },
    {
      "cell_type": "markdown",
      "metadata": {
        "id": "31C9hhbiozXR"
      },
      "source": [
        "## Load nitrogen and phosphorus"
      ]
    },
    {
      "cell_type": "code",
      "metadata": {
        "colab": {
          "base_uri": "https://localhost:8080/"
        },
        "id": "OQrymr16tfC6",
        "outputId": "0cc5e342-bae2-4c34-9b4b-2e37cd92d904"
      },
      "source": [
        "from google.colab import drive\n",
        "\n",
        "drive.mount(\"/content/gdrive\")"
      ],
      "execution_count": null,
      "outputs": [
        {
          "output_type": "stream",
          "text": [
            "Drive already mounted at /content/gdrive; to attempt to forcibly remount, call drive.mount(\"/content/gdrive\", force_remount=True).\n"
          ],
          "name": "stdout"
        }
      ]
    },
    {
      "cell_type": "code",
      "metadata": {
        "colab": {
          "base_uri": "https://localhost:8080/"
        },
        "id": "VhfwzsVeUW0C",
        "outputId": "dbee4500-4477-4288-d5e1-d2e4ec18f208"
      },
      "source": [
        "!ls \"gdrive/My Drive/Dataset/nitrogen_phosphorus.csv\""
      ],
      "execution_count": null,
      "outputs": [
        {
          "output_type": "stream",
          "text": [
            "'gdrive/My Drive/Dataset/nitrogen_phosphorus.csv'\n"
          ],
          "name": "stdout"
        }
      ]
    },
    {
      "cell_type": "code",
      "metadata": {
        "id": "-cof1OU_wWZg"
      },
      "source": [
        "df_np = pd.read_csv(\"gdrive/My Drive/Dataset/nitrogen_phosphorus.csv\",header=0,parse_dates=[0])"
      ],
      "execution_count": null,
      "outputs": []
    },
    {
      "cell_type": "code",
      "metadata": {
        "colab": {
          "base_uri": "https://localhost:8080/",
          "height": 266
        },
        "id": "1CdZuCLJwx1J",
        "outputId": "d716de33-c8e2-4097-fb55-2f776a83d01e"
      },
      "source": [
        "df_np.head(7)"
      ],
      "execution_count": null,
      "outputs": [
        {
          "output_type": "execute_result",
          "data": {
            "text/html": [
              "<div>\n",
              "<style scoped>\n",
              "    .dataframe tbody tr th:only-of-type {\n",
              "        vertical-align: middle;\n",
              "    }\n",
              "\n",
              "    .dataframe tbody tr th {\n",
              "        vertical-align: top;\n",
              "    }\n",
              "\n",
              "    .dataframe thead th {\n",
              "        text-align: right;\n",
              "    }\n",
              "</style>\n",
              "<table border=\"1\" class=\"dataframe\">\n",
              "  <thead>\n",
              "    <tr style=\"text-align: right;\">\n",
              "      <th></th>\n",
              "      <th>timestamp</th>\n",
              "      <th>N</th>\n",
              "      <th>P</th>\n",
              "    </tr>\n",
              "  </thead>\n",
              "  <tbody>\n",
              "    <tr>\n",
              "      <th>0</th>\n",
              "      <td>2019-02-23 00:00:00</td>\n",
              "      <td>90.0</td>\n",
              "      <td>42.0</td>\n",
              "    </tr>\n",
              "    <tr>\n",
              "      <th>1</th>\n",
              "      <td>2019-02-23 00:05:00</td>\n",
              "      <td>85.0</td>\n",
              "      <td>58.0</td>\n",
              "    </tr>\n",
              "    <tr>\n",
              "      <th>2</th>\n",
              "      <td>2019-02-23 00:10:00</td>\n",
              "      <td>60.0</td>\n",
              "      <td>55.0</td>\n",
              "    </tr>\n",
              "    <tr>\n",
              "      <th>3</th>\n",
              "      <td>2019-02-23 00:15:00</td>\n",
              "      <td>74.0</td>\n",
              "      <td>35.0</td>\n",
              "    </tr>\n",
              "    <tr>\n",
              "      <th>4</th>\n",
              "      <td>2019-02-23 00:20:00</td>\n",
              "      <td>78.0</td>\n",
              "      <td>42.0</td>\n",
              "    </tr>\n",
              "    <tr>\n",
              "      <th>5</th>\n",
              "      <td>2019-02-23 00:25:00</td>\n",
              "      <td>69.0</td>\n",
              "      <td>37.0</td>\n",
              "    </tr>\n",
              "    <tr>\n",
              "      <th>6</th>\n",
              "      <td>2019-02-23 00:30:00</td>\n",
              "      <td>69.0</td>\n",
              "      <td>55.0</td>\n",
              "    </tr>\n",
              "  </tbody>\n",
              "</table>\n",
              "</div>"
            ],
            "text/plain": [
              "            timestamp     N     P\n",
              "0 2019-02-23 00:00:00  90.0  42.0\n",
              "1 2019-02-23 00:05:00  85.0  58.0\n",
              "2 2019-02-23 00:10:00  60.0  55.0\n",
              "3 2019-02-23 00:15:00  74.0  35.0\n",
              "4 2019-02-23 00:20:00  78.0  42.0\n",
              "5 2019-02-23 00:25:00  69.0  37.0\n",
              "6 2019-02-23 00:30:00  69.0  55.0"
            ]
          },
          "metadata": {
            "tags": []
          },
          "execution_count": 144
        }
      ]
    },
    {
      "cell_type": "code",
      "metadata": {
        "colab": {
          "base_uri": "https://localhost:8080/"
        },
        "id": "e3aTNfXwzgRQ",
        "outputId": "7939461c-bfba-45bc-a449-7dfc450814ff"
      },
      "source": [
        "df_np.shape"
      ],
      "execution_count": null,
      "outputs": [
        {
          "output_type": "execute_result",
          "data": {
            "text/plain": [
              "(27904, 3)"
            ]
          },
          "metadata": {
            "tags": []
          },
          "execution_count": 145
        }
      ]
    },
    {
      "cell_type": "markdown",
      "metadata": {
        "id": "l_NbnXy09Ufs"
      },
      "source": [
        "### Data Cleaning"
      ]
    },
    {
      "cell_type": "code",
      "metadata": {
        "colab": {
          "base_uri": "https://localhost:8080/"
        },
        "id": "3JvWKtRkHoA3",
        "outputId": "131e9320-4ec6-441e-f277-2f62a7461aa3"
      },
      "source": [
        "df_np.isna().sum()"
      ],
      "execution_count": null,
      "outputs": [
        {
          "output_type": "execute_result",
          "data": {
            "text/plain": [
              "timestamp        0\n",
              "N            23503\n",
              "P            23503\n",
              "dtype: int64"
            ]
          },
          "metadata": {
            "tags": []
          },
          "execution_count": 146
        }
      ]
    },
    {
      "cell_type": "code",
      "metadata": {
        "id": "DGH9CKYUHslI"
      },
      "source": [
        "\n",
        "df_np = df_np.dropna()"
      ],
      "execution_count": null,
      "outputs": []
    },
    {
      "cell_type": "code",
      "metadata": {
        "colab": {
          "base_uri": "https://localhost:8080/"
        },
        "id": "r-ozEZDnIR7_",
        "outputId": "65f50d8f-63d8-4bba-8a05-dd62fd3e08b6"
      },
      "source": [
        "df_np.isna().sum()"
      ],
      "execution_count": null,
      "outputs": [
        {
          "output_type": "execute_result",
          "data": {
            "text/plain": [
              "timestamp    0\n",
              "N            0\n",
              "P            0\n",
              "dtype: int64"
            ]
          },
          "metadata": {
            "tags": []
          },
          "execution_count": 148
        }
      ]
    },
    {
      "cell_type": "code",
      "metadata": {
        "colab": {
          "base_uri": "https://localhost:8080/"
        },
        "id": "hjj121ztIaxW",
        "outputId": "132c595e-a5a5-4479-af5c-38df479803d8"
      },
      "source": [
        "df_np.shape"
      ],
      "execution_count": null,
      "outputs": [
        {
          "output_type": "execute_result",
          "data": {
            "text/plain": [
              "(4401, 3)"
            ]
          },
          "metadata": {
            "tags": []
          },
          "execution_count": 149
        }
      ]
    },
    {
      "cell_type": "markdown",
      "metadata": {
        "id": "BeaRbuOtxwzn"
      },
      "source": [
        "### Visualization of nitrogen and phosphorus"
      ]
    },
    {
      "cell_type": "code",
      "metadata": {
        "colab": {
          "base_uri": "https://localhost:8080/",
          "height": 302
        },
        "id": "_KmXpsoDxeiA",
        "outputId": "07ed1f6c-b130-41fd-d544-09d54a3e8e3b"
      },
      "source": [
        "plt.figure(figsize=(12,12))\n",
        "df_np.plot(x='timestamp')\n",
        "plt.show()"
      ],
      "execution_count": null,
      "outputs": [
        {
          "output_type": "display_data",
          "data": {
            "text/plain": [
              "<Figure size 864x864 with 0 Axes>"
            ]
          },
          "metadata": {
            "tags": []
          }
        },
        {
          "output_type": "display_data",
          "data": {
            "image/png": "[encoded data removed]",
            "text/plain": [
              "<Figure size 432x288 with 1 Axes>"
            ]
          },
          "metadata": {
            "tags": [],
            "needs_background": "light"
          }
        }
      ]
    },
    {
      "cell_type": "markdown",
      "metadata": {
        "id": "Gct53AkA1Jen"
      },
      "source": [
        "### Compute Correlation of nitrogen and phosphorus"
      ]
    },
    {
      "cell_type": "code",
      "metadata": {
        "colab": {
          "base_uri": "https://localhost:8080/"
        },
        "id": "IM92CvDo0jjJ",
        "outputId": "da671b4b-72db-4121-8cf5-abecd49820db"
      },
      "source": [
        "correlation_np = df_np['N'].corr(df_np['P'])\n",
        "print(\"Correlation of nitrogen and phosphorus: \", correlation_np.round(2))"
      ],
      "execution_count": null,
      "outputs": [
        {
          "output_type": "stream",
          "text": [
            "Correlation of nitrogen and phosphorus:  -0.23\n"
          ],
          "name": "stdout"
        }
      ]
    },
    {
      "cell_type": "code",
      "metadata": {
        "colab": {
          "base_uri": "https://localhost:8080/"
        },
        "id": "Q6vnI2040Svn",
        "outputId": "4a8bdd5e-2485-47fa-c1c2-88c5639d31c5"
      },
      "source": [
        "import seaborn\n",
        "plt.figure(figsize = (7,7))\n",
        "seaborn.heatmap(df_np.corr(),annot = True, cmap = 'coolwarm')"
      ],
      "execution_count": null,
      "outputs": [
        {
          "output_type": "execute_result",
          "data": {
            "text/plain": [
              "<matplotlib.axes._subplots.AxesSubplot at 0x7f86a9f0bf90>"
            ]
          },
          "metadata": {
            "tags": []
          },
          "execution_count": 152
        },
        {
          "output_type": "display_data",
          "data": {
            "image/png": "[encoded data removed]",
            "text/plain": [
              "<Figure size 504x504 with 2 Axes>"
            ]
          },
          "metadata": {
            "tags": [],
            "needs_background": "light"
          }
        }
      ]
    },
    {
      "cell_type": "markdown",
      "metadata": {
        "id": "Z0EYFdJxUbUQ"
      },
      "source": [
        "### Conclusion\n",
        "It concluded a slightly negative correlation between nitrogen and phosphorus."
      ]
    },
    {
      "cell_type": "markdown",
      "metadata": {
        "id": "9LMbC82DI7Gj"
      },
      "source": [
        "# Compute weekly change in nitrogen"
      ]
    },
    {
      "cell_type": "markdown",
      "metadata": {
        "id": "Fg_dsPUTNR1a"
      },
      "source": [
        "### convert minutely into weekly data"
      ]
    },
    {
      "cell_type": "code",
      "metadata": {
        "colab": {
          "base_uri": "https://localhost:8080/",
          "height": 173
        },
        "id": "Cl3Ep6RgNRYh",
        "outputId": "7545ee96-5add-4442-cce5-6bbd1d1ce0b6"
      },
      "source": [
        "\n",
        "df_np_weekly = df_np.resample(\"W\",on='timestamp').mean()\n",
        "df_np_weekly.head()"
      ],
      "execution_count": null,
      "outputs": [
        {
          "output_type": "execute_result",
          "data": {
            "text/html": [
              "<div>\n",
              "<style scoped>\n",
              "    .dataframe tbody tr th:only-of-type {\n",
              "        vertical-align: middle;\n",
              "    }\n",
              "\n",
              "    .dataframe tbody tr th {\n",
              "        vertical-align: top;\n",
              "    }\n",
              "\n",
              "    .dataframe thead th {\n",
              "        text-align: right;\n",
              "    }\n",
              "</style>\n",
              "<table border=\"1\" class=\"dataframe\">\n",
              "  <thead>\n",
              "    <tr style=\"text-align: right;\">\n",
              "      <th></th>\n",
              "      <th>N</th>\n",
              "      <th>P</th>\n",
              "    </tr>\n",
              "    <tr>\n",
              "      <th>timestamp</th>\n",
              "      <th></th>\n",
              "      <th></th>\n",
              "    </tr>\n",
              "  </thead>\n",
              "  <tbody>\n",
              "    <tr>\n",
              "      <th>2019-02-24</th>\n",
              "      <td>44.345486</td>\n",
              "      <td>58.220486</td>\n",
              "    </tr>\n",
              "    <tr>\n",
              "      <th>2019-03-03</th>\n",
              "      <td>55.243720</td>\n",
              "      <td>51.634420</td>\n",
              "    </tr>\n",
              "    <tr>\n",
              "      <th>2019-03-10</th>\n",
              "      <td>47.914023</td>\n",
              "      <td>53.571136</td>\n",
              "    </tr>\n",
              "  </tbody>\n",
              "</table>\n",
              "</div>"
            ],
            "text/plain": [
              "                    N          P\n",
              "timestamp                       \n",
              "2019-02-24  44.345486  58.220486\n",
              "2019-03-03  55.243720  51.634420\n",
              "2019-03-10  47.914023  53.571136"
            ]
          },
          "metadata": {
            "tags": []
          },
          "execution_count": 153
        }
      ]
    },
    {
      "cell_type": "code",
      "metadata": {
        "colab": {
          "base_uri": "https://localhost:8080/"
        },
        "id": "nlNGvimPUxWU",
        "outputId": "a39fc411-bc62-47e3-d79b-7c3f20527df9"
      },
      "source": [
        "nitrogen = df_np_weekly['N'] #series\n",
        "print(nitrogen.head(7))\n"
      ],
      "execution_count": null,
      "outputs": [
        {
          "output_type": "stream",
          "text": [
            "timestamp\n",
            "2019-02-24    44.345486\n",
            "2019-03-03    55.243720\n",
            "2019-03-10    47.914023\n",
            "Freq: W-SUN, Name: N, dtype: float64\n"
          ],
          "name": "stdout"
        }
      ]
    },
    {
      "cell_type": "code",
      "metadata": {
        "colab": {
          "base_uri": "https://localhost:8080/"
        },
        "id": "migU9-byWaah",
        "outputId": "a02e0fae-a646-4ccd-e5c6-6cf2fd9fdc15"
      },
      "source": [
        "df_nitrogen = pd.DataFrame(temperature, columns=['N']) # give column name 'N\"\n",
        "print(df_nitrogen)"
      ],
      "execution_count": null,
      "outputs": [
        {
          "output_type": "stream",
          "text": [
            "                    N\n",
            "timestamp            \n",
            "2019-02-24  44.345486\n",
            "2019-03-03  55.243720\n",
            "2019-03-10  47.914023\n"
          ],
          "name": "stdout"
        }
      ]
    },
    {
      "cell_type": "code",
      "metadata": {
        "id": "8AoEjJVURQPz",
        "colab": {
          "base_uri": "https://localhost:8080/"
        },
        "outputId": "6f404291-b420-4cc4-f78a-44102b9496d2"
      },
      "source": [
        "weekly_nitrogen_change = df_nitrogen.copy()\n",
        "print(weekly_nitrogen_change)\n",
        "weekly_diff = weekly_nitrogen_change.diff()\n",
        "print(weekly_diff)"
      ],
      "execution_count": null,
      "outputs": [
        {
          "output_type": "stream",
          "text": [
            "                    N\n",
            "timestamp            \n",
            "2019-02-24  44.345486\n",
            "2019-03-03  55.243720\n",
            "2019-03-10  47.914023\n",
            "                    N\n",
            "timestamp            \n",
            "2019-02-24        NaN\n",
            "2019-03-03  10.898234\n",
            "2019-03-10  -7.329697\n"
          ],
          "name": "stdout"
        }
      ]
    },
    {
      "cell_type": "code",
      "metadata": {
        "id": "yEECMw59JAQh",
        "colab": {
          "base_uri": "https://localhost:8080/",
          "height": 319
        },
        "outputId": "195f3bbe-cd83-4a96-b148-4217d39a7271"
      },
      "source": [
        "weekly_diff.plot()\n",
        "plt.title(\"weekly change in nitrogen\")\n",
        "plt.show()\n"
      ],
      "execution_count": null,
      "outputs": [
        {
          "output_type": "display_data",
          "data": {
            "image/png": "[encoded data removed]",
            "text/plain": [
              "<Figure size 432x288 with 1 Axes>"
            ]
          },
          "metadata": {
            "tags": [],
            "needs_background": "light"
          }
        }
      ]
    },
    {
      "cell_type": "markdown",
      "metadata": {
        "id": "CbB2WOxm-qvp"
      },
      "source": [
        "### Percentage change in nitrogen"
      ]
    },
    {
      "cell_type": "code",
      "metadata": {
        "id": "puKuAB5rJAS-",
        "colab": {
          "base_uri": "https://localhost:8080/"
        },
        "outputId": "b661499f-902a-4ab8-9a41-5d377260b62f"
      },
      "source": [
        "change_temp = df_nitrogen.pct_change().round(3)\n",
        "print(change_temp.head(7))"
      ],
      "execution_count": null,
      "outputs": [
        {
          "output_type": "stream",
          "text": [
            "                N\n",
            "timestamp        \n",
            "2019-02-24    NaN\n",
            "2019-03-03  0.246\n",
            "2019-03-10 -0.133\n"
          ],
          "name": "stdout"
        }
      ]
    },
    {
      "cell_type": "markdown",
      "metadata": {
        "id": "Rvm2qTUdb_qv"
      },
      "source": [
        "# Compute weekly change in phosphorus"
      ]
    },
    {
      "cell_type": "markdown",
      "metadata": {
        "id": "ZMP2GQeMb_qv"
      },
      "source": [
        "### convert minutely into weekly data"
      ]
    },
    {
      "cell_type": "code",
      "metadata": {
        "colab": {
          "base_uri": "https://localhost:8080/",
          "height": 173
        },
        "id": "yDAaCZhqb_qv",
        "outputId": "a93bcc34-730f-444a-e23f-96653a540083"
      },
      "source": [
        "\n",
        "df_np_weekly = df_np.resample(\"W\",on='timestamp').mean()\n",
        "df_np_weekly.head()"
      ],
      "execution_count": null,
      "outputs": [
        {
          "output_type": "execute_result",
          "data": {
            "text/html": [
              "<div>\n",
              "<style scoped>\n",
              "    .dataframe tbody tr th:only-of-type {\n",
              "        vertical-align: middle;\n",
              "    }\n",
              "\n",
              "    .dataframe tbody tr th {\n",
              "        vertical-align: top;\n",
              "    }\n",
              "\n",
              "    .dataframe thead th {\n",
              "        text-align: right;\n",
              "    }\n",
              "</style>\n",
              "<table border=\"1\" class=\"dataframe\">\n",
              "  <thead>\n",
              "    <tr style=\"text-align: right;\">\n",
              "      <th></th>\n",
              "      <th>N</th>\n",
              "      <th>P</th>\n",
              "    </tr>\n",
              "    <tr>\n",
              "      <th>timestamp</th>\n",
              "      <th></th>\n",
              "      <th></th>\n",
              "    </tr>\n",
              "  </thead>\n",
              "  <tbody>\n",
              "    <tr>\n",
              "      <th>2019-02-24</th>\n",
              "      <td>44.345486</td>\n",
              "      <td>58.220486</td>\n",
              "    </tr>\n",
              "    <tr>\n",
              "      <th>2019-03-03</th>\n",
              "      <td>55.243720</td>\n",
              "      <td>51.634420</td>\n",
              "    </tr>\n",
              "    <tr>\n",
              "      <th>2019-03-10</th>\n",
              "      <td>47.914023</td>\n",
              "      <td>53.571136</td>\n",
              "    </tr>\n",
              "  </tbody>\n",
              "</table>\n",
              "</div>"
            ],
            "text/plain": [
              "                    N          P\n",
              "timestamp                       \n",
              "2019-02-24  44.345486  58.220486\n",
              "2019-03-03  55.243720  51.634420\n",
              "2019-03-10  47.914023  53.571136"
            ]
          },
          "metadata": {
            "tags": []
          },
          "execution_count": 159
        }
      ]
    },
    {
      "cell_type": "code",
      "metadata": {
        "colab": {
          "base_uri": "https://localhost:8080/"
        },
        "id": "pYm6Phijb_qw",
        "outputId": "a5c6dc46-e79d-41b2-cce8-62a6a2609cd3"
      },
      "source": [
        "phosphorus = df_np_weekly['P'] #series\n",
        "print(phosphorus.head(7))\n"
      ],
      "execution_count": null,
      "outputs": [
        {
          "output_type": "stream",
          "text": [
            "timestamp\n",
            "2019-02-24    58.220486\n",
            "2019-03-03    51.634420\n",
            "2019-03-10    53.571136\n",
            "Freq: W-SUN, Name: P, dtype: float64\n"
          ],
          "name": "stdout"
        }
      ]
    },
    {
      "cell_type": "code",
      "metadata": {
        "colab": {
          "base_uri": "https://localhost:8080/"
        },
        "id": "qBlQg6gxb_qx",
        "outputId": "6804e277-44ef-4460-abc0-5800d28b5a4a"
      },
      "source": [
        "df_phosphorus = pd.DataFrame(phosphorus, columns=['P']) # give column name 'N\"\n",
        "print(df_phosphorus)"
      ],
      "execution_count": null,
      "outputs": [
        {
          "output_type": "stream",
          "text": [
            "                    P\n",
            "timestamp            \n",
            "2019-02-24  58.220486\n",
            "2019-03-03  51.634420\n",
            "2019-03-10  53.571136\n"
          ],
          "name": "stdout"
        }
      ]
    },
    {
      "cell_type": "code",
      "metadata": {
        "colab": {
          "base_uri": "https://localhost:8080/"
        },
        "id": "jRP_wwvwb_qx",
        "outputId": "fb141f2a-eb46-4373-ba05-6dc0d06c03a4"
      },
      "source": [
        "weekly_phosphorus_change = df_phosphorus.copy()\n",
        "print(weekly_phosphorus_change)\n",
        "weekly_diff_phosphorus = weekly_phosphorus_change.diff()\n",
        "print(weekly_diff_phosphorus)"
      ],
      "execution_count": null,
      "outputs": [
        {
          "output_type": "stream",
          "text": [
            "                    P\n",
            "timestamp            \n",
            "2019-02-24  58.220486\n",
            "2019-03-03  51.634420\n",
            "2019-03-10  53.571136\n",
            "                   P\n",
            "timestamp           \n",
            "2019-02-24       NaN\n",
            "2019-03-03 -6.586066\n",
            "2019-03-10  1.936716\n"
          ],
          "name": "stdout"
        }
      ]
    },
    {
      "cell_type": "code",
      "metadata": {
        "colab": {
          "base_uri": "https://localhost:8080/",
          "height": 319
        },
        "id": "Sgwcn_Znb_qx",
        "outputId": "b7bad07b-1d52-4dc0-ea20-583efdb27a6b"
      },
      "source": [
        "weekly_diff_phosphorus.plot(grid = True)\n",
        "plt.title(\"weekly change in phosphorus\")\n",
        "plt.show()\n"
      ],
      "execution_count": null,
      "outputs": [
        {
          "output_type": "display_data",
          "data": {
            "image/png": "[encoded data removed]",
            "text/plain": [
              "<Figure size 432x288 with 1 Axes>"
            ]
          },
          "metadata": {
            "tags": [],
            "needs_background": "light"
          }
        }
      ]
    },
    {
      "cell_type": "markdown",
      "metadata": {
        "id": "NunXug9ggE-8"
      },
      "source": [
        "###  Percentage Change in phosphorus"
      ]
    },
    {
      "cell_type": "code",
      "metadata": {
        "colab": {
          "base_uri": "https://localhost:8080/"
        },
        "id": "HIhIDw8Hb_qy",
        "outputId": "a6dd8473-eb74-4ebc-fb39-ea32bb0bc5b0"
      },
      "source": [
        "change_phosphorus = df_phosphorus.pct_change().round(3)\n",
        "print(change_phosphorus.head(7))"
      ],
      "execution_count": null,
      "outputs": [
        {
          "output_type": "stream",
          "text": [
            "                P\n",
            "timestamp        \n",
            "2019-02-24    NaN\n",
            "2019-03-03 -0.113\n",
            "2019-03-10  0.038\n"
          ],
          "name": "stdout"
        }
      ]
    }
  ]
}